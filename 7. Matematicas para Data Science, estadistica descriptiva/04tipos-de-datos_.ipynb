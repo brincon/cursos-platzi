{
 "cells": [
  {
   "cell_type": "markdown",
   "metadata": {
    "cell_id": "00000-52667132-8299-40ad-83da-6b9cfbaa2312",
    "deepnote_cell_type": "markdown",
    "tags": []
   },
   "source": [
    "# Tipos de datos en estadística inferencial \n",
    "\n",
    "Aquí tenemos en cuenta los diferentes tipos de datos o variables estructuradas en cualquier problema de ciencia de datos.\n",
    "\n",
    "* datos categóricos: ordinales y nominales\n",
    "* datos numéricos: discretos y continuos\n",
    "\n",
    "a continuación exploraremos un dataset que contiene todos estos tipos de datos: https://www.kaggle.com/lepchenkov/usedcarscatalog"
   ]
  },
  {
   "cell_type": "code",
   "execution_count": 1,
   "metadata": {
    "cell_id": "00001-2f50782b-4b2f-4708-b0b2-e9acb43d0a5c",
    "deepnote_cell_type": "code",
    "deepnote_to_be_reexecuted": false,
    "execution_millis": 281,
    "execution_start": 1620137394672,
    "output_cleared": false,
    "source_hash": "80ea42a9",
    "tags": []
   },
   "outputs": [
    {
     "data": {
      "text/html": [
       "<div>\n",
       "<style scoped>\n",
       "    .dataframe tbody tr th:only-of-type {\n",
       "        vertical-align: middle;\n",
       "    }\n",
       "\n",
       "    .dataframe tbody tr th {\n",
       "        vertical-align: top;\n",
       "    }\n",
       "\n",
       "    .dataframe thead th {\n",
       "        text-align: right;\n",
       "    }\n",
       "</style>\n",
       "<table border=\"1\" class=\"dataframe\">\n",
       "  <thead>\n",
       "    <tr style=\"text-align: right;\">\n",
       "      <th></th>\n",
       "      <th>manufacturer_name</th>\n",
       "      <th>model_name</th>\n",
       "      <th>transmission</th>\n",
       "      <th>color</th>\n",
       "      <th>odometer_value</th>\n",
       "      <th>year_produced</th>\n",
       "      <th>engine_fuel</th>\n",
       "      <th>engine_has_gas</th>\n",
       "      <th>engine_type</th>\n",
       "      <th>engine_capacity</th>\n",
       "      <th>...</th>\n",
       "      <th>feature_1</th>\n",
       "      <th>feature_2</th>\n",
       "      <th>feature_3</th>\n",
       "      <th>feature_4</th>\n",
       "      <th>feature_5</th>\n",
       "      <th>feature_6</th>\n",
       "      <th>feature_7</th>\n",
       "      <th>feature_8</th>\n",
       "      <th>feature_9</th>\n",
       "      <th>duration_listed</th>\n",
       "    </tr>\n",
       "  </thead>\n",
       "  <tbody>\n",
       "    <tr>\n",
       "      <th>0</th>\n",
       "      <td>Subaru</td>\n",
       "      <td>Outback</td>\n",
       "      <td>automatic</td>\n",
       "      <td>silver</td>\n",
       "      <td>190000</td>\n",
       "      <td>2010</td>\n",
       "      <td>gasoline</td>\n",
       "      <td>False</td>\n",
       "      <td>gasoline</td>\n",
       "      <td>2.5</td>\n",
       "      <td>...</td>\n",
       "      <td>True</td>\n",
       "      <td>True</td>\n",
       "      <td>True</td>\n",
       "      <td>False</td>\n",
       "      <td>True</td>\n",
       "      <td>False</td>\n",
       "      <td>True</td>\n",
       "      <td>True</td>\n",
       "      <td>True</td>\n",
       "      <td>16</td>\n",
       "    </tr>\n",
       "    <tr>\n",
       "      <th>1</th>\n",
       "      <td>Subaru</td>\n",
       "      <td>Outback</td>\n",
       "      <td>automatic</td>\n",
       "      <td>blue</td>\n",
       "      <td>290000</td>\n",
       "      <td>2002</td>\n",
       "      <td>gasoline</td>\n",
       "      <td>False</td>\n",
       "      <td>gasoline</td>\n",
       "      <td>3.0</td>\n",
       "      <td>...</td>\n",
       "      <td>True</td>\n",
       "      <td>False</td>\n",
       "      <td>False</td>\n",
       "      <td>True</td>\n",
       "      <td>True</td>\n",
       "      <td>False</td>\n",
       "      <td>False</td>\n",
       "      <td>False</td>\n",
       "      <td>True</td>\n",
       "      <td>83</td>\n",
       "    </tr>\n",
       "    <tr>\n",
       "      <th>2</th>\n",
       "      <td>Subaru</td>\n",
       "      <td>Forester</td>\n",
       "      <td>automatic</td>\n",
       "      <td>red</td>\n",
       "      <td>402000</td>\n",
       "      <td>2001</td>\n",
       "      <td>gasoline</td>\n",
       "      <td>False</td>\n",
       "      <td>gasoline</td>\n",
       "      <td>2.5</td>\n",
       "      <td>...</td>\n",
       "      <td>True</td>\n",
       "      <td>False</td>\n",
       "      <td>False</td>\n",
       "      <td>False</td>\n",
       "      <td>False</td>\n",
       "      <td>False</td>\n",
       "      <td>False</td>\n",
       "      <td>True</td>\n",
       "      <td>True</td>\n",
       "      <td>151</td>\n",
       "    </tr>\n",
       "    <tr>\n",
       "      <th>3</th>\n",
       "      <td>Subaru</td>\n",
       "      <td>Impreza</td>\n",
       "      <td>mechanical</td>\n",
       "      <td>blue</td>\n",
       "      <td>10000</td>\n",
       "      <td>1999</td>\n",
       "      <td>gasoline</td>\n",
       "      <td>False</td>\n",
       "      <td>gasoline</td>\n",
       "      <td>3.0</td>\n",
       "      <td>...</td>\n",
       "      <td>False</td>\n",
       "      <td>False</td>\n",
       "      <td>False</td>\n",
       "      <td>False</td>\n",
       "      <td>False</td>\n",
       "      <td>False</td>\n",
       "      <td>False</td>\n",
       "      <td>False</td>\n",
       "      <td>False</td>\n",
       "      <td>86</td>\n",
       "    </tr>\n",
       "    <tr>\n",
       "      <th>4</th>\n",
       "      <td>Subaru</td>\n",
       "      <td>Legacy</td>\n",
       "      <td>automatic</td>\n",
       "      <td>black</td>\n",
       "      <td>280000</td>\n",
       "      <td>2001</td>\n",
       "      <td>gasoline</td>\n",
       "      <td>False</td>\n",
       "      <td>gasoline</td>\n",
       "      <td>2.5</td>\n",
       "      <td>...</td>\n",
       "      <td>True</td>\n",
       "      <td>False</td>\n",
       "      <td>True</td>\n",
       "      <td>True</td>\n",
       "      <td>False</td>\n",
       "      <td>False</td>\n",
       "      <td>False</td>\n",
       "      <td>False</td>\n",
       "      <td>True</td>\n",
       "      <td>7</td>\n",
       "    </tr>\n",
       "    <tr>\n",
       "      <th>...</th>\n",
       "      <td>...</td>\n",
       "      <td>...</td>\n",
       "      <td>...</td>\n",
       "      <td>...</td>\n",
       "      <td>...</td>\n",
       "      <td>...</td>\n",
       "      <td>...</td>\n",
       "      <td>...</td>\n",
       "      <td>...</td>\n",
       "      <td>...</td>\n",
       "      <td>...</td>\n",
       "      <td>...</td>\n",
       "      <td>...</td>\n",
       "      <td>...</td>\n",
       "      <td>...</td>\n",
       "      <td>...</td>\n",
       "      <td>...</td>\n",
       "      <td>...</td>\n",
       "      <td>...</td>\n",
       "      <td>...</td>\n",
       "      <td>...</td>\n",
       "    </tr>\n",
       "    <tr>\n",
       "      <th>38526</th>\n",
       "      <td>Chrysler</td>\n",
       "      <td>300</td>\n",
       "      <td>automatic</td>\n",
       "      <td>silver</td>\n",
       "      <td>290000</td>\n",
       "      <td>2000</td>\n",
       "      <td>gasoline</td>\n",
       "      <td>False</td>\n",
       "      <td>gasoline</td>\n",
       "      <td>3.5</td>\n",
       "      <td>...</td>\n",
       "      <td>True</td>\n",
       "      <td>False</td>\n",
       "      <td>False</td>\n",
       "      <td>True</td>\n",
       "      <td>True</td>\n",
       "      <td>False</td>\n",
       "      <td>False</td>\n",
       "      <td>True</td>\n",
       "      <td>True</td>\n",
       "      <td>301</td>\n",
       "    </tr>\n",
       "    <tr>\n",
       "      <th>38527</th>\n",
       "      <td>Chrysler</td>\n",
       "      <td>PT Cruiser</td>\n",
       "      <td>mechanical</td>\n",
       "      <td>blue</td>\n",
       "      <td>321000</td>\n",
       "      <td>2004</td>\n",
       "      <td>diesel</td>\n",
       "      <td>False</td>\n",
       "      <td>diesel</td>\n",
       "      <td>2.2</td>\n",
       "      <td>...</td>\n",
       "      <td>True</td>\n",
       "      <td>False</td>\n",
       "      <td>False</td>\n",
       "      <td>True</td>\n",
       "      <td>True</td>\n",
       "      <td>False</td>\n",
       "      <td>False</td>\n",
       "      <td>True</td>\n",
       "      <td>True</td>\n",
       "      <td>317</td>\n",
       "    </tr>\n",
       "    <tr>\n",
       "      <th>38528</th>\n",
       "      <td>Chrysler</td>\n",
       "      <td>300</td>\n",
       "      <td>automatic</td>\n",
       "      <td>blue</td>\n",
       "      <td>777957</td>\n",
       "      <td>2000</td>\n",
       "      <td>gasoline</td>\n",
       "      <td>False</td>\n",
       "      <td>gasoline</td>\n",
       "      <td>3.5</td>\n",
       "      <td>...</td>\n",
       "      <td>True</td>\n",
       "      <td>False</td>\n",
       "      <td>False</td>\n",
       "      <td>True</td>\n",
       "      <td>True</td>\n",
       "      <td>False</td>\n",
       "      <td>False</td>\n",
       "      <td>True</td>\n",
       "      <td>True</td>\n",
       "      <td>369</td>\n",
       "    </tr>\n",
       "    <tr>\n",
       "      <th>38529</th>\n",
       "      <td>Chrysler</td>\n",
       "      <td>PT Cruiser</td>\n",
       "      <td>mechanical</td>\n",
       "      <td>black</td>\n",
       "      <td>20000</td>\n",
       "      <td>2001</td>\n",
       "      <td>gasoline</td>\n",
       "      <td>False</td>\n",
       "      <td>gasoline</td>\n",
       "      <td>2.0</td>\n",
       "      <td>...</td>\n",
       "      <td>True</td>\n",
       "      <td>False</td>\n",
       "      <td>False</td>\n",
       "      <td>False</td>\n",
       "      <td>False</td>\n",
       "      <td>False</td>\n",
       "      <td>False</td>\n",
       "      <td>False</td>\n",
       "      <td>True</td>\n",
       "      <td>490</td>\n",
       "    </tr>\n",
       "    <tr>\n",
       "      <th>38530</th>\n",
       "      <td>Chrysler</td>\n",
       "      <td>Voyager</td>\n",
       "      <td>automatic</td>\n",
       "      <td>silver</td>\n",
       "      <td>297729</td>\n",
       "      <td>2000</td>\n",
       "      <td>gasoline</td>\n",
       "      <td>False</td>\n",
       "      <td>gasoline</td>\n",
       "      <td>2.4</td>\n",
       "      <td>...</td>\n",
       "      <td>False</td>\n",
       "      <td>False</td>\n",
       "      <td>False</td>\n",
       "      <td>False</td>\n",
       "      <td>False</td>\n",
       "      <td>False</td>\n",
       "      <td>False</td>\n",
       "      <td>False</td>\n",
       "      <td>True</td>\n",
       "      <td>632</td>\n",
       "    </tr>\n",
       "  </tbody>\n",
       "</table>\n",
       "<p>38531 rows × 30 columns</p>\n",
       "</div>"
      ],
      "text/plain": [
       "      manufacturer_name  model_name transmission   color  odometer_value  \\\n",
       "0                Subaru     Outback    automatic  silver          190000   \n",
       "1                Subaru     Outback    automatic    blue          290000   \n",
       "2                Subaru    Forester    automatic     red          402000   \n",
       "3                Subaru     Impreza   mechanical    blue           10000   \n",
       "4                Subaru      Legacy    automatic   black          280000   \n",
       "...                 ...         ...          ...     ...             ...   \n",
       "38526          Chrysler         300    automatic  silver          290000   \n",
       "38527          Chrysler  PT Cruiser   mechanical    blue          321000   \n",
       "38528          Chrysler         300    automatic    blue          777957   \n",
       "38529          Chrysler  PT Cruiser   mechanical   black           20000   \n",
       "38530          Chrysler     Voyager    automatic  silver          297729   \n",
       "\n",
       "       year_produced engine_fuel  engine_has_gas engine_type  engine_capacity  \\\n",
       "0               2010    gasoline           False    gasoline              2.5   \n",
       "1               2002    gasoline           False    gasoline              3.0   \n",
       "2               2001    gasoline           False    gasoline              2.5   \n",
       "3               1999    gasoline           False    gasoline              3.0   \n",
       "4               2001    gasoline           False    gasoline              2.5   \n",
       "...              ...         ...             ...         ...              ...   \n",
       "38526           2000    gasoline           False    gasoline              3.5   \n",
       "38527           2004      diesel           False      diesel              2.2   \n",
       "38528           2000    gasoline           False    gasoline              3.5   \n",
       "38529           2001    gasoline           False    gasoline              2.0   \n",
       "38530           2000    gasoline           False    gasoline              2.4   \n",
       "\n",
       "       ... feature_1  feature_2 feature_3 feature_4  feature_5  feature_6  \\\n",
       "0      ...      True       True      True     False       True      False   \n",
       "1      ...      True      False     False      True       True      False   \n",
       "2      ...      True      False     False     False      False      False   \n",
       "3      ...     False      False     False     False      False      False   \n",
       "4      ...      True      False      True      True      False      False   \n",
       "...    ...       ...        ...       ...       ...        ...        ...   \n",
       "38526  ...      True      False     False      True       True      False   \n",
       "38527  ...      True      False     False      True       True      False   \n",
       "38528  ...      True      False     False      True       True      False   \n",
       "38529  ...      True      False     False     False      False      False   \n",
       "38530  ...     False      False     False     False      False      False   \n",
       "\n",
       "      feature_7  feature_8  feature_9  duration_listed  \n",
       "0          True       True       True               16  \n",
       "1         False      False       True               83  \n",
       "2         False       True       True              151  \n",
       "3         False      False      False               86  \n",
       "4         False      False       True                7  \n",
       "...         ...        ...        ...              ...  \n",
       "38526     False       True       True              301  \n",
       "38527     False       True       True              317  \n",
       "38528     False       True       True              369  \n",
       "38529     False      False       True              490  \n",
       "38530     False      False       True              632  \n",
       "\n",
       "[38531 rows x 30 columns]"
      ]
     },
     "execution_count": 1,
     "metadata": {},
     "output_type": "execute_result"
    }
   ],
   "source": [
    "import pandas as pd \n",
    "\n",
    "df = pd.read_csv('cars.csv')\n",
    "\n",
    "df"
   ]
  },
  {
   "cell_type": "markdown",
   "metadata": {
    "cell_id": "00002-5d03d85a-74c3-4874-a458-d7233e4e4f07",
    "deepnote_cell_type": "markdown",
    "tags": []
   },
   "source": [
    "los tipos de datos de cada columna en el dataset se pueden obtener directamente con `pandas.DataFrame.dtypes` \n",
    "\n",
    "https://pandas.pydata.org/docs/reference/api/pandas.DataFrame.dtypes.html"
   ]
  },
  {
   "cell_type": "code",
   "execution_count": 2,
   "metadata": {
    "cell_id": "00003-fd635f88-db55-466e-873d-31c2722b95b4",
    "deepnote_cell_type": "code",
    "deepnote_to_be_reexecuted": false,
    "execution_millis": 13,
    "execution_start": 1620137470572,
    "output_cleared": false,
    "source_hash": "52430027",
    "tags": []
   },
   "outputs": [
    {
     "data": {
      "text/plain": [
       "manufacturer_name     object\n",
       "model_name            object\n",
       "transmission          object\n",
       "color                 object\n",
       "odometer_value         int64\n",
       "year_produced          int64\n",
       "engine_fuel           object\n",
       "engine_has_gas          bool\n",
       "engine_type           object\n",
       "engine_capacity      float64\n",
       "body_type             object\n",
       "has_warranty            bool\n",
       "state                 object\n",
       "drivetrain            object\n",
       "price_usd            float64\n",
       "is_exchangeable         bool\n",
       "location_region       object\n",
       "number_of_photos       int64\n",
       "up_counter             int64\n",
       "feature_0               bool\n",
       "feature_1               bool\n",
       "feature_2               bool\n",
       "feature_3               bool\n",
       "feature_4               bool\n",
       "feature_5               bool\n",
       "feature_6               bool\n",
       "feature_7               bool\n",
       "feature_8               bool\n",
       "feature_9               bool\n",
       "duration_listed        int64\n",
       "dtype: object"
      ]
     },
     "execution_count": 2,
     "metadata": {},
     "output_type": "execute_result"
    }
   ],
   "source": [
    "df.dtypes"
   ]
  },
  {
   "cell_type": "markdown",
   "metadata": {
    "cell_id": "00004-26f43d88-0944-4d15-95f8-8cfb9f2e54f5",
    "deepnote_cell_type": "markdown",
    "tags": []
   },
   "source": [
    "Aquí vemos que los tipos de datos se identifican de la siguiente manera: \n",
    "\n",
    "* Categoricos: `object`, `bool`\n",
    "* Numéricos: `int64` (discreto), `float64` (contínuo)"
   ]
  },
  {
   "cell_type": "markdown",
   "metadata": {
    "cell_id": "00005-4f6ebca5-2049-4ca4-9bfd-58e4bde9bdf5",
    "deepnote_cell_type": "markdown",
    "tags": []
   },
   "source": [
    "Ahora, con la libreria pandas podemos generar un conjunto completo de estadisticos descriptivos del dataset usando `pandas.DataFrame.describe()`\n",
    "\n",
    "https://pandas.pydata.org/docs/reference/api/pandas.DataFrame.describe.html"
   ]
  },
  {
   "cell_type": "code",
   "execution_count": null,
   "metadata": {
    "cell_id": "00006-a5f8d173-8583-45d6-8700-e1f071149307",
    "deepnote_cell_type": "code",
    "deepnote_to_be_reexecuted": false,
    "execution_millis": 55,
    "execution_start": 1620137551302,
    "output_cleared": false,
    "source_hash": "f88152d9",
    "tags": []
   },
   "outputs": [
    {
     "data": {
      "application/vnd.deepnote.dataframe.v2+json": {
       "column_count": 7,
       "columns": [
        {
         "dtype": "float64",
         "name": "odometer_value",
         "stats": {
          "histogram": [
           {
            "bin_end": 100000,
            "bin_start": 0,
            "count": 2
           },
           {
            "bin_end": 200000,
            "bin_start": 100000,
            "count": 2
           },
           {
            "bin_end": 300000,
            "bin_start": 200000,
            "count": 2
           },
           {
            "bin_end": 400000,
            "bin_start": 300000,
            "count": 1
           },
           {
            "bin_end": 500000,
            "bin_start": 400000,
            "count": 0
           },
           {
            "bin_end": 600000,
            "bin_start": 500000,
            "count": 0
           },
           {
            "bin_end": 700000,
            "bin_start": 600000,
            "count": 0
           },
           {
            "bin_end": 800000,
            "bin_start": 700000,
            "count": 0
           },
           {
            "bin_end": 900000,
            "bin_start": 800000,
            "count": 0
           },
           {
            "bin_end": 1000000,
            "bin_start": 900000,
            "count": 1
           }
          ],
          "max": "1000000.0",
          "min": "0.0",
          "nan_count": 0,
          "unique_count": 8
         }
        },
        {
         "dtype": "float64",
         "name": "year_produced",
         "stats": {
          "histogram": [
           {
            "bin_end": 3860.3591574601787,
            "bin_start": 8.065730511309914,
            "count": 7
           },
           {
            "bin_end": 7712.652584409047,
            "bin_start": 3860.3591574601787,
            "count": 0
           },
           {
            "bin_end": 11564.946011357915,
            "bin_start": 7712.652584409047,
            "count": 0
           },
           {
            "bin_end": 15417.239438306784,
            "bin_start": 11564.946011357915,
            "count": 0
           },
           {
            "bin_end": 19269.532865255653,
            "bin_start": 15417.239438306784,
            "count": 0
           },
           {
            "bin_end": 23121.82629220452,
            "bin_start": 19269.532865255653,
            "count": 0
           },
           {
            "bin_end": 26974.11971915339,
            "bin_start": 23121.82629220452,
            "count": 0
           },
           {
            "bin_end": 30826.41314610226,
            "bin_start": 26974.11971915339,
            "count": 0
           },
           {
            "bin_end": 34678.70657305113,
            "bin_start": 30826.41314610226,
            "count": 0
           },
           {
            "bin_end": 38531,
            "bin_start": 34678.70657305113,
            "count": 1
           }
          ],
          "max": "38531.0",
          "min": "8.065730511309914",
          "nan_count": 0,
          "unique_count": 8
         }
        },
        {
         "dtype": "float64",
         "name": "engine_capacity",
         "stats": {
          "histogram": [
           {
            "bin_end": 3852.28,
            "bin_start": 0.2,
            "count": 7
           },
           {
            "bin_end": 7704.360000000001,
            "bin_start": 3852.28,
            "count": 0
           },
           {
            "bin_end": 11556.440000000002,
            "bin_start": 7704.360000000001,
            "count": 0
           },
           {
            "bin_end": 15408.520000000002,
            "bin_start": 11556.440000000002,
            "count": 0
           },
           {
            "bin_end": 19260.600000000002,
            "bin_start": 15408.520000000002,
            "count": 0
           },
           {
            "bin_end": 23112.680000000004,
            "bin_start": 19260.600000000002,
            "count": 0
           },
           {
            "bin_end": 26964.760000000002,
            "bin_start": 23112.680000000004,
            "count": 0
           },
           {
            "bin_end": 30816.840000000004,
            "bin_start": 26964.760000000002,
            "count": 0
           },
           {
            "bin_end": 34668.92,
            "bin_start": 30816.840000000004,
            "count": 0
           },
           {
            "bin_end": 38521,
            "bin_start": 34668.92,
            "count": 1
           }
          ],
          "max": "38521.0",
          "min": "0.2",
          "nan_count": 0,
          "unique_count": 8
         }
        },
        {
         "dtype": "float64",
         "name": "price_usd",
         "stats": {
          "histogram": [
           {
            "bin_end": 5000.9,
            "bin_start": 1,
            "count": 3
           },
           {
            "bin_end": 10000.8,
            "bin_start": 5000.9,
            "count": 3
           },
           {
            "bin_end": 15000.699999999999,
            "bin_start": 10000.8,
            "count": 0
           },
           {
            "bin_end": 20000.6,
            "bin_start": 15000.699999999999,
            "count": 0
           },
           {
            "bin_end": 25000.5,
            "bin_start": 20000.6,
            "count": 0
           },
           {
            "bin_end": 30000.399999999998,
            "bin_start": 25000.5,
            "count": 0
           },
           {
            "bin_end": 35000.299999999996,
            "bin_start": 30000.399999999998,
            "count": 0
           },
           {
            "bin_end": 40000.2,
            "bin_start": 35000.299999999996,
            "count": 1
           },
           {
            "bin_end": 45000.1,
            "bin_start": 40000.2,
            "count": 0
           },
           {
            "bin_end": 50000,
            "bin_start": 45000.1,
            "count": 1
           }
          ],
          "max": "50000.0",
          "min": "1.0",
          "nan_count": 0,
          "unique_count": 8
         }
        },
        {
         "dtype": "float64",
         "name": "number_of_photos",
         "stats": {
          "histogram": [
           {
            "bin_end": 3854,
            "bin_start": 1,
            "count": 7
           },
           {
            "bin_end": 7707,
            "bin_start": 3854,
            "count": 0
           },
           {
            "bin_end": 11560,
            "bin_start": 7707,
            "count": 0
           },
           {
            "bin_end": 15413,
            "bin_start": 11560,
            "count": 0
           },
           {
            "bin_end": 19266,
            "bin_start": 15413,
            "count": 0
           },
           {
            "bin_end": 23119,
            "bin_start": 19266,
            "count": 0
           },
           {
            "bin_end": 26972,
            "bin_start": 23119,
            "count": 0
           },
           {
            "bin_end": 30825,
            "bin_start": 26972,
            "count": 0
           },
           {
            "bin_end": 34678,
            "bin_start": 30825,
            "count": 0
           },
           {
            "bin_end": 38531,
            "bin_start": 34678,
            "count": 1
           }
          ],
          "max": "38531.0",
          "min": "1.0",
          "nan_count": 0,
          "unique_count": 8
         }
        },
        {
         "dtype": "float64",
         "name": "up_counter",
         "stats": {
          "histogram": [
           {
            "bin_end": 3854,
            "bin_start": 1,
            "count": 7
           },
           {
            "bin_end": 7707,
            "bin_start": 3854,
            "count": 0
           },
           {
            "bin_end": 11560,
            "bin_start": 7707,
            "count": 0
           },
           {
            "bin_end": 15413,
            "bin_start": 11560,
            "count": 0
           },
           {
            "bin_end": 19266,
            "bin_start": 15413,
            "count": 0
           },
           {
            "bin_end": 23119,
            "bin_start": 19266,
            "count": 0
           },
           {
            "bin_end": 26972,
            "bin_start": 23119,
            "count": 0
           },
           {
            "bin_end": 30825,
            "bin_start": 26972,
            "count": 0
           },
           {
            "bin_end": 34678,
            "bin_start": 30825,
            "count": 0
           },
           {
            "bin_end": 38531,
            "bin_start": 34678,
            "count": 1
           }
          ],
          "max": "38531.0",
          "min": "1.0",
          "nan_count": 0,
          "unique_count": 8
         }
        },
        {
         "dtype": "float64",
         "name": "duration_listed",
         "stats": {
          "histogram": [
           {
            "bin_end": 3853.1,
            "bin_start": 0,
            "count": 7
           },
           {
            "bin_end": 7706.2,
            "bin_start": 3853.1,
            "count": 0
           },
           {
            "bin_end": 11559.3,
            "bin_start": 7706.2,
            "count": 0
           },
           {
            "bin_end": 15412.4,
            "bin_start": 11559.3,
            "count": 0
           },
           {
            "bin_end": 19265.5,
            "bin_start": 15412.4,
            "count": 0
           },
           {
            "bin_end": 23118.6,
            "bin_start": 19265.5,
            "count": 0
           },
           {
            "bin_end": 26971.7,
            "bin_start": 23118.6,
            "count": 0
           },
           {
            "bin_end": 30824.8,
            "bin_start": 26971.7,
            "count": 0
           },
           {
            "bin_end": 34677.9,
            "bin_start": 30824.8,
            "count": 0
           },
           {
            "bin_end": 38531,
            "bin_start": 34677.9,
            "count": 1
           }
          ],
          "max": "38531.0",
          "min": "0.0",
          "nan_count": 0,
          "unique_count": 8
         }
        },
        {
         "dtype": "object",
         "name": "_deepnote_index_column"
        }
       ],
       "row_count": 8,
       "rows_bottom": null,
       "rows_top": [
        {
         "_deepnote_index_column": "count",
         "duration_listed": 38531,
         "engine_capacity": 38521,
         "number_of_photos": 38531,
         "odometer_value": 38531,
         "price_usd": 38531,
         "up_counter": 38531,
         "year_produced": 38531
        },
        {
         "_deepnote_index_column": "mean",
         "duration_listed": 80.5772494874257,
         "engine_capacity": 2.055161106928688,
         "number_of_photos": 9.649061794399314,
         "odometer_value": 248864.6384469648,
         "price_usd": 6639.971021255613,
         "up_counter": 16.306091199294073,
         "year_produced": 2002.9437336170874
        },
        {
         "_deepnote_index_column": "std",
         "duration_listed": 112.82656864261294,
         "engine_capacity": 0.671177667208744,
         "number_of_photos": 6.093216996872852,
         "odometer_value": 136072.37652978083,
         "price_usd": 6428.1520182029035,
         "up_counter": 43.286933094223144,
         "year_produced": 8.065730511309914
        },
        {
         "_deepnote_index_column": "min",
         "duration_listed": 0,
         "engine_capacity": 0.2,
         "number_of_photos": 1,
         "odometer_value": 0,
         "price_usd": 1,
         "up_counter": 1,
         "year_produced": 1942
        },
        {
         "_deepnote_index_column": "25%",
         "duration_listed": 23,
         "engine_capacity": 1.6,
         "number_of_photos": 5,
         "odometer_value": 158000,
         "price_usd": 2100,
         "up_counter": 2,
         "year_produced": 1998
        },
        {
         "_deepnote_index_column": "50%",
         "duration_listed": 59,
         "engine_capacity": 2,
         "number_of_photos": 8,
         "odometer_value": 250000,
         "price_usd": 4800,
         "up_counter": 5,
         "year_produced": 2003
        },
        {
         "_deepnote_index_column": "75%",
         "duration_listed": 91,
         "engine_capacity": 2.3,
         "number_of_photos": 12,
         "odometer_value": 325000,
         "price_usd": 8990,
         "up_counter": 16,
         "year_produced": 2009
        },
        {
         "_deepnote_index_column": "max",
         "duration_listed": 2232,
         "engine_capacity": 8,
         "number_of_photos": 86,
         "odometer_value": 1000000,
         "price_usd": 50000,
         "up_counter": 1861,
         "year_produced": 2019
        }
       ]
      },
      "text/html": [
       "<div>\n",
       "<style scoped>\n",
       "    .dataframe tbody tr th:only-of-type {\n",
       "        vertical-align: middle;\n",
       "    }\n",
       "\n",
       "    .dataframe tbody tr th {\n",
       "        vertical-align: top;\n",
       "    }\n",
       "\n",
       "    .dataframe thead th {\n",
       "        text-align: right;\n",
       "    }\n",
       "</style>\n",
       "<table border=\"1\" class=\"dataframe\">\n",
       "  <thead>\n",
       "    <tr style=\"text-align: right;\">\n",
       "      <th></th>\n",
       "      <th>odometer_value</th>\n",
       "      <th>year_produced</th>\n",
       "      <th>engine_capacity</th>\n",
       "      <th>price_usd</th>\n",
       "      <th>number_of_photos</th>\n",
       "      <th>up_counter</th>\n",
       "      <th>duration_listed</th>\n",
       "    </tr>\n",
       "  </thead>\n",
       "  <tbody>\n",
       "    <tr>\n",
       "      <th>count</th>\n",
       "      <td>38531.000000</td>\n",
       "      <td>38531.000000</td>\n",
       "      <td>38521.000000</td>\n",
       "      <td>38531.000000</td>\n",
       "      <td>38531.000000</td>\n",
       "      <td>38531.000000</td>\n",
       "      <td>38531.000000</td>\n",
       "    </tr>\n",
       "    <tr>\n",
       "      <th>mean</th>\n",
       "      <td>248864.638447</td>\n",
       "      <td>2002.943734</td>\n",
       "      <td>2.055161</td>\n",
       "      <td>6639.971021</td>\n",
       "      <td>9.649062</td>\n",
       "      <td>16.306091</td>\n",
       "      <td>80.577249</td>\n",
       "    </tr>\n",
       "    <tr>\n",
       "      <th>std</th>\n",
       "      <td>136072.376530</td>\n",
       "      <td>8.065731</td>\n",
       "      <td>0.671178</td>\n",
       "      <td>6428.152018</td>\n",
       "      <td>6.093217</td>\n",
       "      <td>43.286933</td>\n",
       "      <td>112.826569</td>\n",
       "    </tr>\n",
       "    <tr>\n",
       "      <th>min</th>\n",
       "      <td>0.000000</td>\n",
       "      <td>1942.000000</td>\n",
       "      <td>0.200000</td>\n",
       "      <td>1.000000</td>\n",
       "      <td>1.000000</td>\n",
       "      <td>1.000000</td>\n",
       "      <td>0.000000</td>\n",
       "    </tr>\n",
       "    <tr>\n",
       "      <th>25%</th>\n",
       "      <td>158000.000000</td>\n",
       "      <td>1998.000000</td>\n",
       "      <td>1.600000</td>\n",
       "      <td>2100.000000</td>\n",
       "      <td>5.000000</td>\n",
       "      <td>2.000000</td>\n",
       "      <td>23.000000</td>\n",
       "    </tr>\n",
       "    <tr>\n",
       "      <th>50%</th>\n",
       "      <td>250000.000000</td>\n",
       "      <td>2003.000000</td>\n",
       "      <td>2.000000</td>\n",
       "      <td>4800.000000</td>\n",
       "      <td>8.000000</td>\n",
       "      <td>5.000000</td>\n",
       "      <td>59.000000</td>\n",
       "    </tr>\n",
       "    <tr>\n",
       "      <th>75%</th>\n",
       "      <td>325000.000000</td>\n",
       "      <td>2009.000000</td>\n",
       "      <td>2.300000</td>\n",
       "      <td>8990.000000</td>\n",
       "      <td>12.000000</td>\n",
       "      <td>16.000000</td>\n",
       "      <td>91.000000</td>\n",
       "    </tr>\n",
       "    <tr>\n",
       "      <th>max</th>\n",
       "      <td>1000000.000000</td>\n",
       "      <td>2019.000000</td>\n",
       "      <td>8.000000</td>\n",
       "      <td>50000.000000</td>\n",
       "      <td>86.000000</td>\n",
       "      <td>1861.000000</td>\n",
       "      <td>2232.000000</td>\n",
       "    </tr>\n",
       "  </tbody>\n",
       "</table>\n",
       "</div>"
      ],
      "text/plain": [
       "       odometer_value  year_produced  engine_capacity     price_usd  \\\n",
       "count    38531.000000   38531.000000     38521.000000  38531.000000   \n",
       "mean    248864.638447    2002.943734         2.055161   6639.971021   \n",
       "std     136072.376530       8.065731         0.671178   6428.152018   \n",
       "min          0.000000    1942.000000         0.200000      1.000000   \n",
       "25%     158000.000000    1998.000000         1.600000   2100.000000   \n",
       "50%     250000.000000    2003.000000         2.000000   4800.000000   \n",
       "75%     325000.000000    2009.000000         2.300000   8990.000000   \n",
       "max    1000000.000000    2019.000000         8.000000  50000.000000   \n",
       "\n",
       "       number_of_photos    up_counter  duration_listed  \n",
       "count      38531.000000  38531.000000     38531.000000  \n",
       "mean           9.649062     16.306091        80.577249  \n",
       "std            6.093217     43.286933       112.826569  \n",
       "min            1.000000      1.000000         0.000000  \n",
       "25%            5.000000      2.000000        23.000000  \n",
       "50%            8.000000      5.000000        59.000000  \n",
       "75%           12.000000     16.000000        91.000000  \n",
       "max           86.000000   1861.000000      2232.000000  "
      ]
     },
     "execution_count": 3,
     "metadata": {},
     "output_type": "execute_result"
    }
   ],
   "source": [
    "df.describe()"
   ]
  },
  {
   "cell_type": "code",
   "execution_count": 1,
   "metadata": {},
   "outputs": [],
   "source": [
    "import seaborn as sns\n",
    "import pandas as pd"
   ]
  },
  {
   "cell_type": "code",
   "execution_count": 2,
   "metadata": {},
   "outputs": [],
   "source": [
    "df = pd.read_csv('cars.csv')"
   ]
  },
  {
   "cell_type": "code",
   "execution_count": 5,
   "metadata": {},
   "outputs": [],
   "source": [
    "Q7_df = df[df['manufacturer_name']=='Audi']\n",
    "Q7_df."
   ]
  },
  {
   "cell_type": "code",
   "execution_count": null,
   "metadata": {},
   "outputs": [],
   "source": []
  },
  {
   "cell_type": "code",
   "execution_count": 6,
   "metadata": {},
   "outputs": [
    {
     "data": {
      "text/html": [
       "<div>\n",
       "<style scoped>\n",
       "    .dataframe tbody tr th:only-of-type {\n",
       "        vertical-align: middle;\n",
       "    }\n",
       "\n",
       "    .dataframe tbody tr th {\n",
       "        vertical-align: top;\n",
       "    }\n",
       "\n",
       "    .dataframe thead th {\n",
       "        text-align: right;\n",
       "    }\n",
       "</style>\n",
       "<table border=\"1\" class=\"dataframe\">\n",
       "  <thead>\n",
       "    <tr style=\"text-align: right;\">\n",
       "      <th></th>\n",
       "      <th>manufacturer_name</th>\n",
       "      <th>model_name</th>\n",
       "      <th>transmission</th>\n",
       "      <th>color</th>\n",
       "      <th>odometer_value</th>\n",
       "      <th>year_produced</th>\n",
       "      <th>engine_fuel</th>\n",
       "      <th>engine_has_gas</th>\n",
       "      <th>engine_type</th>\n",
       "      <th>engine_capacity</th>\n",
       "      <th>...</th>\n",
       "      <th>feature_1</th>\n",
       "      <th>feature_2</th>\n",
       "      <th>feature_3</th>\n",
       "      <th>feature_4</th>\n",
       "      <th>feature_5</th>\n",
       "      <th>feature_6</th>\n",
       "      <th>feature_7</th>\n",
       "      <th>feature_8</th>\n",
       "      <th>feature_9</th>\n",
       "      <th>duration_listed</th>\n",
       "    </tr>\n",
       "  </thead>\n",
       "  <tbody>\n",
       "    <tr>\n",
       "      <th>19515</th>\n",
       "      <td>Audi</td>\n",
       "      <td>Q7</td>\n",
       "      <td>automatic</td>\n",
       "      <td>grey</td>\n",
       "      <td>275000</td>\n",
       "      <td>2007</td>\n",
       "      <td>diesel</td>\n",
       "      <td>False</td>\n",
       "      <td>diesel</td>\n",
       "      <td>3.0</td>\n",
       "      <td>...</td>\n",
       "      <td>False</td>\n",
       "      <td>False</td>\n",
       "      <td>False</td>\n",
       "      <td>False</td>\n",
       "      <td>False</td>\n",
       "      <td>False</td>\n",
       "      <td>False</td>\n",
       "      <td>False</td>\n",
       "      <td>False</td>\n",
       "      <td>21</td>\n",
       "    </tr>\n",
       "    <tr>\n",
       "      <th>19516</th>\n",
       "      <td>Audi</td>\n",
       "      <td>TT</td>\n",
       "      <td>automatic</td>\n",
       "      <td>black</td>\n",
       "      <td>179000</td>\n",
       "      <td>2007</td>\n",
       "      <td>gasoline</td>\n",
       "      <td>False</td>\n",
       "      <td>gasoline</td>\n",
       "      <td>2.0</td>\n",
       "      <td>...</td>\n",
       "      <td>False</td>\n",
       "      <td>False</td>\n",
       "      <td>False</td>\n",
       "      <td>False</td>\n",
       "      <td>False</td>\n",
       "      <td>False</td>\n",
       "      <td>False</td>\n",
       "      <td>False</td>\n",
       "      <td>False</td>\n",
       "      <td>33</td>\n",
       "    </tr>\n",
       "    <tr>\n",
       "      <th>19517</th>\n",
       "      <td>Audi</td>\n",
       "      <td>100</td>\n",
       "      <td>mechanical</td>\n",
       "      <td>white</td>\n",
       "      <td>325600</td>\n",
       "      <td>1985</td>\n",
       "      <td>gasoline</td>\n",
       "      <td>False</td>\n",
       "      <td>gasoline</td>\n",
       "      <td>1.8</td>\n",
       "      <td>...</td>\n",
       "      <td>False</td>\n",
       "      <td>False</td>\n",
       "      <td>False</td>\n",
       "      <td>False</td>\n",
       "      <td>False</td>\n",
       "      <td>False</td>\n",
       "      <td>False</td>\n",
       "      <td>False</td>\n",
       "      <td>False</td>\n",
       "      <td>0</td>\n",
       "    </tr>\n",
       "    <tr>\n",
       "      <th>19518</th>\n",
       "      <td>Audi</td>\n",
       "      <td>A6</td>\n",
       "      <td>automatic</td>\n",
       "      <td>black</td>\n",
       "      <td>249000</td>\n",
       "      <td>2008</td>\n",
       "      <td>gasoline</td>\n",
       "      <td>False</td>\n",
       "      <td>gasoline</td>\n",
       "      <td>2.8</td>\n",
       "      <td>...</td>\n",
       "      <td>True</td>\n",
       "      <td>True</td>\n",
       "      <td>True</td>\n",
       "      <td>True</td>\n",
       "      <td>True</td>\n",
       "      <td>True</td>\n",
       "      <td>True</td>\n",
       "      <td>True</td>\n",
       "      <td>True</td>\n",
       "      <td>202</td>\n",
       "    </tr>\n",
       "    <tr>\n",
       "      <th>19519</th>\n",
       "      <td>Audi</td>\n",
       "      <td>Q3</td>\n",
       "      <td>automatic</td>\n",
       "      <td>black</td>\n",
       "      <td>175000</td>\n",
       "      <td>2012</td>\n",
       "      <td>gasoline</td>\n",
       "      <td>False</td>\n",
       "      <td>gasoline</td>\n",
       "      <td>2.0</td>\n",
       "      <td>...</td>\n",
       "      <td>True</td>\n",
       "      <td>True</td>\n",
       "      <td>False</td>\n",
       "      <td>True</td>\n",
       "      <td>True</td>\n",
       "      <td>True</td>\n",
       "      <td>True</td>\n",
       "      <td>True</td>\n",
       "      <td>True</td>\n",
       "      <td>13</td>\n",
       "    </tr>\n",
       "  </tbody>\n",
       "</table>\n",
       "<p>5 rows × 30 columns</p>\n",
       "</div>"
      ],
      "text/plain": [
       "      manufacturer_name model_name transmission  color  odometer_value  \\\n",
       "19515              Audi         Q7    automatic   grey          275000   \n",
       "19516              Audi         TT    automatic  black          179000   \n",
       "19517              Audi        100   mechanical  white          325600   \n",
       "19518              Audi         A6    automatic  black          249000   \n",
       "19519              Audi         Q3    automatic  black          175000   \n",
       "\n",
       "       year_produced engine_fuel  engine_has_gas engine_type  engine_capacity  \\\n",
       "19515           2007      diesel           False      diesel              3.0   \n",
       "19516           2007    gasoline           False    gasoline              2.0   \n",
       "19517           1985    gasoline           False    gasoline              1.8   \n",
       "19518           2008    gasoline           False    gasoline              2.8   \n",
       "19519           2012    gasoline           False    gasoline              2.0   \n",
       "\n",
       "       ... feature_1  feature_2 feature_3 feature_4  feature_5  feature_6  \\\n",
       "19515  ...     False      False     False     False      False      False   \n",
       "19516  ...     False      False     False     False      False      False   \n",
       "19517  ...     False      False     False     False      False      False   \n",
       "19518  ...      True       True      True      True       True       True   \n",
       "19519  ...      True       True     False      True       True       True   \n",
       "\n",
       "      feature_7  feature_8  feature_9  duration_listed  \n",
       "19515     False      False      False               21  \n",
       "19516     False      False      False               33  \n",
       "19517     False      False      False                0  \n",
       "19518      True       True       True              202  \n",
       "19519      True       True       True               13  \n",
       "\n",
       "[5 rows x 30 columns]"
      ]
     },
     "execution_count": 6,
     "metadata": {},
     "output_type": "execute_result"
    }
   ],
   "source": [
    "Q7_df.head()"
   ]
  },
  {
   "cell_type": "code",
   "execution_count": 3,
   "metadata": {},
   "outputs": [
    {
     "data": {
      "text/plain": [
       "<AxesSubplot:xlabel='price_usd', ylabel='Count'>"
      ]
     },
     "execution_count": 3,
     "metadata": {},
     "output_type": "execute_result"
    },
    {
     "data": {
      "image/png": "[encoded data removed]",
      "text/plain": [
       "<Figure size 432x288 with 1 Axes>"
      ]
     },
     "metadata": {
      "needs_background": "light"
     },
     "output_type": "display_data"
    }
   ],
   "source": [
    "Q7_df = df[(df['manufacturer_name']=='Audi') & (df['model_name']=='Q7')]\n",
    "sns.histplot(Q7_df, x='price_usd', hue = 'year_produced')"
   ]
  },
  {
   "cell_type": "markdown",
   "metadata": {
    "created_in_deepnote_cell": true,
    "deepnote_cell_type": "markdown",
    "tags": []
   },
   "source": [
    "<a style='text-decoration:none;line-height:16px;display:flex;color:#5B5B62;padding:10px;justify-content:end;' href='https://deepnote.com?utm_source=created-in-deepnote-cell&projectId=3f569948-e9a8-454f-8f4d-a27aa1610a87' target=\"_blank\">\n",
    "<img alt='Created in deepnote.com' style='display:inline;max-height:16px;margin:0px;margin-right:7.5px;' src='data:image/svg+xml;base64,PD94bWwgdmVyc2lvbj0iMS4wIiBlbmNvZGluZz0iVVRGLTgiPz4KPHN2ZyB3aWR0aD0iODBweCIgaGVpZ2h0PSI4MHB4IiB2aWV3Qm94PSIwIDAgODAgODAiIHZlcnNpb249IjEuMSIgeG1sbnM9Imh0dHA6Ly93d3cudzMub3JnLzIwMDAvc3ZnIiB4bWxuczp4bGluaz0iaHR0cDovL3d3dy53My5vcmcvMTk5OS94bGluayI+CiAgICA8IS0tIEdlbmVyYXRvcjogU2tldGNoIDU0LjEgKDc2NDkwKSAtIGh0dHBzOi8vc2tldGNoYXBwLmNvbSAtLT4KICAgIDx0aXRsZT5Hcm91cCAzPC90aXRsZT4KICAgIDxkZXNjPkNyZWF0ZWQgd2l0aCBTa2V0Y2guPC9kZXNjPgogICAgPGcgaWQ9IkxhbmRpbmciIHN0cm9rZT0ibm9uZSIgc3Ryb2tlLXdpZHRoPSIxIiBmaWxsPSJub25lIiBmaWxsLXJ1bGU9ImV2ZW5vZGQiPgogICAgICAgIDxnIGlkPSJBcnRib2FyZCIgdHJhbnNmb3JtPSJ0cmFuc2xhdGUoLTEyMzUuMDAwMDAwLCAtNzkuMDAwMDAwKSI+CiAgICAgICAgICAgIDxnIGlkPSJHcm91cC0zIiB0cmFuc2Zvcm09InRyYW5zbGF0ZSgxMjM1LjAwMDAwMCwgNzkuMDAwMDAwKSI+CiAgICAgICAgICAgICAgICA8cG9seWdvbiBpZD0iUGF0aC0yMCIgZmlsbD0iIzAyNjVCNCIgcG9pbnRzPSIyLjM3NjIzNzYyIDgwIDM4LjA0NzY2NjcgODAgNTcuODIxNzgyMiA3My44MDU3NTkyIDU3LjgyMTc4MjIgMzIuNzU5MjczOSAzOS4xNDAyMjc4IDMxLjY4MzE2ODMiPjwvcG9seWdvbj4KICAgICAgICAgICAgICAgIDxwYXRoIGQ9Ik0zNS4wMDc3MTgsODAgQzQyLjkwNjIwMDcsNzYuNDU0OTM1OCA0Ny41NjQ5MTY3LDcxLjU0MjI2NzEgNDguOTgzODY2LDY1LjI2MTk5MzkgQzUxLjExMjI4OTksNTUuODQxNTg0MiA0MS42NzcxNzk1LDQ5LjIxMjIyODQgMjUuNjIzOTg0Niw0OS4yMTIyMjg0IEMyNS40ODQ5Mjg5LDQ5LjEyNjg0NDggMjkuODI2MTI5Niw0My4yODM4MjQ4IDM4LjY0NzU4NjksMzEuNjgzMTY4MyBMNzIuODcxMjg3MSwzMi41NTQ0MjUgTDY1LjI4MDk3Myw2Ny42NzYzNDIxIEw1MS4xMTIyODk5LDc3LjM3NjE0NCBMMzUuMDA3NzE4LDgwIFoiIGlkPSJQYXRoLTIyIiBmaWxsPSIjMDAyODY4Ij48L3BhdGg+CiAgICAgICAgICAgICAgICA8cGF0aCBkPSJNMCwzNy43MzA0NDA1IEwyNy4xMTQ1MzcsMC4yNTcxMTE0MzYgQzYyLjM3MTUxMjMsLTEuOTkwNzE3MDEgODAsMTAuNTAwMzkyNyA4MCwzNy43MzA0NDA1IEM4MCw2NC45NjA0ODgyIDY0Ljc3NjUwMzgsNzkuMDUwMzQxNCAzNC4zMjk1MTEzLDgwIEM0Ny4wNTUzNDg5LDc3LjU2NzA4MDggNTMuNDE4MjY3Nyw3MC4zMTM2MTAzIDUzLjQxODI2NzcsNTguMjM5NTg4NSBDNTMuNDE4MjY3Nyw0MC4xMjg1NTU3IDM2LjMwMzk1NDQsMzcuNzMwNDQwNSAyNS4yMjc0MTcsMzcuNzMwNDQwNSBDMTcuODQzMDU4NiwzNy43MzA0NDA1IDkuNDMzOTE5NjYsMzcuNzMwNDQwNSAwLDM3LjczMDQ0MDUgWiIgaWQ9IlBhdGgtMTkiIGZpbGw9IiMzNzkzRUYiPjwvcGF0aD4KICAgICAgICAgICAgPC9nPgogICAgICAgIDwvZz4KICAgIDwvZz4KPC9zdmc+' > </img>\n",
    "Created in <span style='font-weight:600;margin-left:4px;'>Deepnote</span></a>"
   ]
  }
 ],
 "metadata": {
  "deepnote": {
   "is_reactive": false
  },
  "deepnote_execution_queue": [],
  "deepnote_notebook_id": "eb6b7aba-8890-43c2-b5d1-829287dd3130",
  "kernelspec": {
   "display_name": "Python 3",
   "language": "python",
   "name": "python3"
  },
  "language_info": {
   "codemirror_mode": {
    "name": "ipython",
    "version": 3
   },
   "file_extension": ".py",
   "mimetype": "text/x-python",
   "name": "python",
   "nbconvert_exporter": "python",
   "pygments_lexer": "ipython3",
   "version": "3.9.7"
  },
  "orig_nbformat": 2
 },
 "nbformat": 4,
 "nbformat_minor": 2
}
